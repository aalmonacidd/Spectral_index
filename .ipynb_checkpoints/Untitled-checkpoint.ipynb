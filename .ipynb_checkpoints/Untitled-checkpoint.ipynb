{
 "cells": [
  {
   "cell_type": "code",
   "execution_count": 11,
   "id": "c39f5c55-0577-4152-bc88-05af5312eb2a",
   "metadata": {},
   "outputs": [
    {
     "data": {
      "text/html": [
       "<html>\\(\\displaystyle g = \\mathrm{d} \\phi_{1}\\otimes \\mathrm{d} \\phi_{1} + e^{\\left(-2 \\, c \\phi_{1}\\right)} \\mathrm{d} \\phi_{2}\\otimes \\mathrm{d} \\phi_{2}\\)</html>"
      ],
      "text/latex": [
       "$\\displaystyle g = \\mathrm{d} \\phi_{1}\\otimes \\mathrm{d} \\phi_{1} + e^{\\left(-2 \\, c \\phi_{1}\\right)} \\mathrm{d} \\phi_{2}\\otimes \\mathrm{d} \\phi_{2}$"
      ],
      "text/plain": [
       "g = dphi_1⊗dphi_1 + e^(-2*c*phi_1) dphi_2⊗dphi_2"
      ]
     },
     "metadata": {},
     "output_type": "display_data"
    },
    {
     "data": {
      "text/html": [
       "<html>\\(\\displaystyle \\left(\\begin{array}{rr}\n",
       "1 & 0 \\\\\n",
       "0 & e^{\\left(-2 \\, c \\phi_{1}\\right)}\n",
       "\\end{array}\\right)\\)</html>"
      ],
      "text/latex": [
       "$\\displaystyle \\left(\\begin{array}{rr}\n",
       "1 & 0 \\\\\n",
       "0 & e^{\\left(-2 \\, c \\phi_{1}\\right)}\n",
       "\\end{array}\\right)$"
      ],
      "text/plain": [
       "[             1              0]\n",
       "[             0 e^(-2*c*phi_1)]"
      ]
     },
     "metadata": {},
     "output_type": "display_data"
    }
   ],
   "source": [
    "\n",
    "# Definir el espacio diferencial 2-dimensional\n",
    "M = Manifold(2, 'M', structure='Riemannian')\n",
    "c=var('c')\n",
    "# Coordenadas (puedes cambiar 'x' y 'y' por otras)\n",
    "X.<phi_1, phi_2> = M.chart()\n",
    "\n",
    "# Definir la métrica (aquí usamos una forma general, pero puedes poner funciones específicas)\n",
    "g = M.metric()\n",
    "\n",
    "# Asignar componentes generales (funciones simbólicas)\n",
    "g[0,0] = 1\n",
    "g[0,1] = 0\n",
    "g[1,1] = e^(-2*c*phi_1)\n",
    "}\n",
    "\n",
    "# Potencial escalar forma exponencial\n",
    "V = function('V')(phi0, phi1)\n",
    "lnV = log(V)\n",
    "\n",
    "# Gradientes covariantes\n",
    "nab = g.connection()\n",
    "dlnV = M.scalar_field(lnV)\n",
    "grad_lnV = dlnV.differential()\n",
    "grad2_lnV = grad_lnV.covariant_derivative(nab)\n",
    "\n",
    "# Vector N^a y forma N_a\n",
    "Ncov = M.vector_field(name='N_cov', latex_name=r'N_{,a}')\n",
    "Ncov[0], Ncov[1] = var('Na0'), var('Na1')\n",
    "Ncon = g.raise_index(Ncov)\n",
    "\n",
    "# Proyector h^a_b = delta^a_b - N^a N_b / (N^c N_c)\n",
    "delta = M.tensor_field((1,1), name='δ')\n",
    "delta[0,0], delta[1,1] = 1, 1\n",
    "normN = (Ncon.contract(Ncov)).expr()\n",
    "h = delta - Ncon * Ncov / normN\n",
    "\n",
    "\n",
    "\n",
    "# Mostrar la métrica\n",
    "show(g.display())\n",
    "\n",
    "# También puedes ver la matriz de la métrica\n",
    "show(g[:])\n"
   ]
  },
  {
   "cell_type": "code",
   "execution_count": 86,
   "id": "eb30663b-8389-4511-b12e-3ddc0fc83b6e",
   "metadata": {},
   "outputs": [
    {
     "name": "stdout",
     "output_type": "stream",
     "text": [
      "Símbolos de Christoffel:\n"
     ]
    },
    {
     "data": {
      "text/html": [
       "<html>\\(\\displaystyle \\begin{array}{lcl} \\Gamma_{ \\phantom{\\, \\phi_{1}} \\, \\phi_{2} \\, \\phi_{2} }^{ \\, \\phi_{1} \\phantom{\\, \\phi_{2}} \\phantom{\\, \\phi_{2}} } & = & c e^{\\left(-2 \\, c \\phi_{1}\\right)} \\\\ \\Gamma_{ \\phantom{\\, \\phi_{2}} \\, \\phi_{1} \\, \\phi_{2} }^{ \\, \\phi_{2} \\phantom{\\, \\phi_{1}} \\phantom{\\, \\phi_{2}} } & = & -c \\\\ \\Gamma_{ \\phantom{\\, \\phi_{2}} \\, \\phi_{2} \\, \\phi_{1} }^{ \\, \\phi_{2} \\phantom{\\, \\phi_{2}} \\phantom{\\, \\phi_{1}} } & = & -c \\end{array}\\)</html>"
      ],
      "text/latex": [
       "$\\displaystyle \\begin{array}{lcl} \\Gamma_{ \\phantom{\\, \\phi_{1}} \\, \\phi_{2} \\, \\phi_{2} }^{ \\, \\phi_{1} \\phantom{\\, \\phi_{2}} \\phantom{\\, \\phi_{2}} } & = & c e^{\\left(-2 \\, c \\phi_{1}\\right)} \\\\ \\Gamma_{ \\phantom{\\, \\phi_{2}} \\, \\phi_{1} \\, \\phi_{2} }^{ \\, \\phi_{2} \\phantom{\\, \\phi_{1}} \\phantom{\\, \\phi_{2}} } & = & -c \\\\ \\Gamma_{ \\phantom{\\, \\phi_{2}} \\, \\phi_{2} \\, \\phi_{1} }^{ \\, \\phi_{2} \\phantom{\\, \\phi_{2}} \\phantom{\\, \\phi_{1}} } & = & -c \\end{array}$"
      ],
      "text/plain": [
       "Gam^phi_1_phi_2,phi_2 = c*e^(-2*c*phi_1) \n",
       "Gam^phi_2_phi_1,phi_2 = -c \n",
       "Gam^phi_2_phi_2,phi_1 = -c "
      ]
     },
     "metadata": {},
     "output_type": "display_data"
    },
    {
     "name": "stdout",
     "output_type": "stream",
     "text": [
      "\n",
      "Tensor de Riemann (sin redundancias):\n"
     ]
    },
    {
     "data": {
      "text/html": [
       "<html>\\(\\displaystyle \\begin{array}{lcl} {R}_{ \\phantom{\\, \\phi_{1}} \\, \\phi_{2} \\, \\phi_{1} \\, \\phi_{2} }^{ \\, \\phi_{1} \\phantom{\\, \\phi_{2}} \\phantom{\\, \\phi_{1}} \\phantom{\\, \\phi_{2}} } & = & -c^{2} e^{\\left(-2 \\, c \\phi_{1}\\right)} \\\\ {R}_{ \\phantom{\\, \\phi_{2}} \\, \\phi_{1} \\, \\phi_{1} \\, \\phi_{2} }^{ \\, \\phi_{2} \\phantom{\\, \\phi_{1}} \\phantom{\\, \\phi_{1}} \\phantom{\\, \\phi_{2}} } & = & c^{2} \\end{array}\\)</html>"
      ],
      "text/latex": [
       "$\\displaystyle \\begin{array}{lcl} {R}_{ \\phantom{\\, \\phi_{1}} \\, \\phi_{2} \\, \\phi_{1} \\, \\phi_{2} }^{ \\, \\phi_{1} \\phantom{\\, \\phi_{2}} \\phantom{\\, \\phi_{1}} \\phantom{\\, \\phi_{2}} } & = & -c^{2} e^{\\left(-2 \\, c \\phi_{1}\\right)} \\\\ {R}_{ \\phantom{\\, \\phi_{2}} \\, \\phi_{1} \\, \\phi_{1} \\, \\phi_{2} }^{ \\, \\phi_{2} \\phantom{\\, \\phi_{1}} \\phantom{\\, \\phi_{1}} \\phantom{\\, \\phi_{2}} } & = & c^{2} \\end{array}$"
      ],
      "text/plain": [
       "R^phi_1_phi_2,phi_1,phi_2 = -c^2*e^(-2*c*phi_1) \n",
       "R^phi_2_phi_1,phi_1,phi_2 = c^2 "
      ]
     },
     "metadata": {},
     "output_type": "display_data"
    },
    {
     "name": "stdout",
     "output_type": "stream",
     "text": [
      "Tensor de Ricci:\n"
     ]
    },
    {
     "data": {
      "text/html": [
       "<html>\\(\\displaystyle \\begin{array}{lcl} {R}_{ \\, \\phi_{1} \\, \\phi_{1} }^{ \\phantom{\\, \\phi_{1}}\\phantom{\\, \\phi_{1}} } & = & -c^{2} \\\\ {R}_{ \\, \\phi_{2} \\, \\phi_{2} }^{ \\phantom{\\, \\phi_{2}}\\phantom{\\, \\phi_{2}} } & = & -c^{2} e^{\\left(-2 \\, c \\phi_{1}\\right)} \\end{array}\\)</html>"
      ],
      "text/latex": [
       "$\\displaystyle \\begin{array}{lcl} {R}_{ \\, \\phi_{1} \\, \\phi_{1} }^{ \\phantom{\\, \\phi_{1}}\\phantom{\\, \\phi_{1}} } & = & -c^{2} \\\\ {R}_{ \\, \\phi_{2} \\, \\phi_{2} }^{ \\phantom{\\, \\phi_{2}}\\phantom{\\, \\phi_{2}} } & = & -c^{2} e^{\\left(-2 \\, c \\phi_{1}\\right)} \\end{array}$"
      ],
      "text/plain": [
       "R_phi_1,phi_1 = -c^2 \n",
       "R_phi_2,phi_2 = -c^2*e^(-2*c*phi_1) "
      ]
     },
     "metadata": {},
     "output_type": "display_data"
    },
    {
     "name": "stdout",
     "output_type": "stream",
     "text": [
      "Escalar de Ricci:\n"
     ]
    },
    {
     "data": {
      "text/html": [
       "<html>\\(\\displaystyle R = -2 \\, c^{2}\\)</html>"
      ],
      "text/latex": [
       "$\\displaystyle R = -2 \\, c^{2}$"
      ],
      "text/plain": [
       "R = -2 \\, c^{2}"
      ]
     },
     "metadata": {},
     "output_type": "display_data"
    }
   ],
   "source": [
    "%display latex\n",
    "# 4. Calcular la conexión de Levi-Civita\n",
    "nabla = g.connection()\n",
    "print(\"Símbolos de Christoffel:\")\n",
    "show(nabla.display())\n",
    "\n",
    "Riem = nabla.riemann(name= 'R' ,latex_name='R')\n",
    "Riem.set_name('R')\n",
    "print(\"\\nTensor de Riemann (sin redundancias):\")\n",
    "Riem_comp = Riem.components()\n",
    "show(Riem.display_comp(only_nonredundant=True))\n",
    "\n",
    "# 6. Tensor de Ricci\n",
    "Ric = g.ricci()\n",
    "Ric.set_name('R')\n",
    "#Ric_comp=Ric.components()\n",
    "print(\"Tensor de Ricci:\")\n",
    "show(Ric.display_comp(only_nonredundant=True))\n",
    "\n",
    "# 7. Escalar de Ricci\n",
    "R = g.ricci_scalar()\n",
    "print(\"Escalar de Ricci:\")\n",
    "#display(f' ')\n",
    "R_expr=R.expr()\n",
    "latex_expr = LatexExpr(\"R = \" + latex(R_expr))\n",
    "show(latex_expr)\n"
   ]
  }
 ],
 "metadata": {
  "kernelspec": {
   "display_name": "SageMath 10.6",
   "language": "sage",
   "name": "sagemath"
  },
  "language_info": {
   "codemirror_mode": {
    "name": "ipython",
    "version": 3
   },
   "file_extension": ".py",
   "mimetype": "text/x-python",
   "name": "python",
   "nbconvert_exporter": "python",
   "pygments_lexer": "ipython3",
   "version": "3.13.3"
  }
 },
 "nbformat": 4,
 "nbformat_minor": 5
}
