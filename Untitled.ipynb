{
 "cells": [
  {
   "cell_type": "code",
   "execution_count": 113,
   "id": "c39f5c55-0577-4152-bc88-05af5312eb2a",
   "metadata": {},
   "outputs": [
    {
     "data": {
      "text/html": [
       "<html>\\(\\displaystyle \\begin{array}{lcl} {h}_{ \\, \\phi_{1} \\, \\phi_{1} }^{ \\phantom{\\, \\phi_{1}}\\phantom{\\, \\phi_{1}} } & = & 1 \\\\ {h}_{ \\, \\phi_{2} \\, \\phi_{2} }^{ \\phantom{\\, \\phi_{2}}\\phantom{\\, \\phi_{2}} } & = & e^{\\left(-2 \\, c \\phi_{1}\\right)} \\end{array}\\)</html>"
      ],
      "text/latex": [
       "$\\displaystyle \\begin{array}{lcl} {h}_{ \\, \\phi_{1} \\, \\phi_{1} }^{ \\phantom{\\, \\phi_{1}}\\phantom{\\, \\phi_{1}} } & = & 1 \\\\ {h}_{ \\, \\phi_{2} \\, \\phi_{2} }^{ \\phantom{\\, \\phi_{2}}\\phantom{\\, \\phi_{2}} } & = & e^{\\left(-2 \\, c \\phi_{1}\\right)} \\end{array}$"
      ],
      "text/plain": [
       "h_phi_1,phi_1 = 1 \n",
       "h_phi_2,phi_2 = e^(-2*c*phi_1) "
      ]
     },
     "metadata": {},
     "output_type": "display_data"
    },
    {
     "data": {
      "text/html": [
       "<html>\\(\\displaystyle \\left(\\begin{array}{rr}\n",
       "1 & 0 \\\\\n",
       "0 & e^{\\left(-2 \\, c \\phi_{1}\\right)}\n",
       "\\end{array}\\right)\\)</html>"
      ],
      "text/latex": [
       "$\\displaystyle \\left(\\begin{array}{rr}\n",
       "1 & 0 \\\\\n",
       "0 & e^{\\left(-2 \\, c \\phi_{1}\\right)}\n",
       "\\end{array}\\right)$"
      ],
      "text/plain": [
       "[             1              0]\n",
       "[             0 e^(-2*c*phi_1)]"
      ]
     },
     "metadata": {},
     "output_type": "display_data"
    }
   ],
   "source": [
    "\n",
    "# Definir el espacio diferencial 2-dimensional\n",
    "M = Manifold(2, 'M', structure='Riemannian')\n",
    "c=var('c')\n",
    "# Coordenadas (puedes cambiar 'x' y 'y' por otras)\n",
    "X.<phi_1, phi_2> = M.chart()\n",
    "\n",
    "# Definir la métrica (aquí usamos una forma general, pero puedes poner funciones específicas)\n",
    "h = M.metric()\n",
    "h.set_name('h')\n",
    "\n",
    "# Asignar componentes generales (funciones simbólicas)\n",
    "h[0,0] = 1\n",
    "h[0,1] = 0\n",
    "h[1,1] = e^(-2*c*phi_1)\n",
    "\n",
    "\n",
    "# Potencial escalar forma exponencial\n",
    "V = e^function('eta')(phi_1, phi_2)\n",
    "lnV = log(V)\n",
    "\n",
    "# Gradientes covariantes\n",
    "nab = h.connection()\n",
    "dlnV = M.scalar_field(lnV)\n",
    "grad_lnV = dlnV.differential()\n",
    "#grad2_lnV = grad_lnV.covariant_derivative(nab)\n",
    "grad2_lnV = nab(grad_lnV)\n",
    "\n",
    "#Numero de e-folds N;a~V;a\n",
    "alpha=var('alpha')\n",
    "Ncov= M.vector_field(name='N_cov', latex_name=r'N_{,a}')\n",
    "Ncov=alpha*grad_lnV\n",
    "Ncon= Ncov.up(h)\n",
    "\n",
    "# Mostrar la métrica\n",
    "show(h.display_comp())\n",
    "\n",
    "# También puedes ver la matriz de la métrica\n",
    "show(h[:])\n",
    "\n"
   ]
  },
  {
   "cell_type": "code",
   "execution_count": 102,
   "id": "eb30663b-8389-4511-b12e-3ddc0fc83b6e",
   "metadata": {},
   "outputs": [
    {
     "name": "stdout",
     "output_type": "stream",
     "text": [
      "Símbolos de Christoffel:\n"
     ]
    },
    {
     "data": {
      "text/html": [
       "<html>\\(\\displaystyle \\begin{array}{lcl} \\Gamma_{ \\phantom{\\, \\phi_{1}} \\, \\phi_{2} \\, \\phi_{2} }^{ \\, \\phi_{1} \\phantom{\\, \\phi_{2}} \\phantom{\\, \\phi_{2}} } & = & c e^{\\left(-2 \\, c \\phi_{1}\\right)} \\\\ \\Gamma_{ \\phantom{\\, \\phi_{2}} \\, \\phi_{1} \\, \\phi_{2} }^{ \\, \\phi_{2} \\phantom{\\, \\phi_{1}} \\phantom{\\, \\phi_{2}} } & = & -c \\\\ \\Gamma_{ \\phantom{\\, \\phi_{2}} \\, \\phi_{2} \\, \\phi_{1} }^{ \\, \\phi_{2} \\phantom{\\, \\phi_{2}} \\phantom{\\, \\phi_{1}} } & = & -c \\end{array}\\)</html>"
      ],
      "text/latex": [
       "$\\displaystyle \\begin{array}{lcl} \\Gamma_{ \\phantom{\\, \\phi_{1}} \\, \\phi_{2} \\, \\phi_{2} }^{ \\, \\phi_{1} \\phantom{\\, \\phi_{2}} \\phantom{\\, \\phi_{2}} } & = & c e^{\\left(-2 \\, c \\phi_{1}\\right)} \\\\ \\Gamma_{ \\phantom{\\, \\phi_{2}} \\, \\phi_{1} \\, \\phi_{2} }^{ \\, \\phi_{2} \\phantom{\\, \\phi_{1}} \\phantom{\\, \\phi_{2}} } & = & -c \\\\ \\Gamma_{ \\phantom{\\, \\phi_{2}} \\, \\phi_{2} \\, \\phi_{1} }^{ \\, \\phi_{2} \\phantom{\\, \\phi_{2}} \\phantom{\\, \\phi_{1}} } & = & -c \\end{array}$"
      ],
      "text/plain": [
       "Gam^phi_1_phi_2,phi_2 = c*e^(-2*c*phi_1) \n",
       "Gam^phi_2_phi_1,phi_2 = -c \n",
       "Gam^phi_2_phi_2,phi_1 = -c "
      ]
     },
     "metadata": {},
     "output_type": "display_data"
    },
    {
     "name": "stdout",
     "output_type": "stream",
     "text": [
      "\n",
      "Tensor de Riemann (sin redundancias):\n"
     ]
    },
    {
     "data": {
      "text/html": [
       "<html>\\(\\displaystyle \\begin{array}{lcl} {R}_{ \\phantom{\\, \\phi_{1}} \\, \\phi_{2} \\, \\phi_{1} \\, \\phi_{2} }^{ \\, \\phi_{1} \\phantom{\\, \\phi_{2}} \\phantom{\\, \\phi_{1}} \\phantom{\\, \\phi_{2}} } & = & -c^{2} e^{\\left(-2 \\, c \\phi_{1}\\right)} \\\\ {R}_{ \\phantom{\\, \\phi_{2}} \\, \\phi_{1} \\, \\phi_{1} \\, \\phi_{2} }^{ \\, \\phi_{2} \\phantom{\\, \\phi_{1}} \\phantom{\\, \\phi_{1}} \\phantom{\\, \\phi_{2}} } & = & c^{2} \\end{array}\\)</html>"
      ],
      "text/latex": [
       "$\\displaystyle \\begin{array}{lcl} {R}_{ \\phantom{\\, \\phi_{1}} \\, \\phi_{2} \\, \\phi_{1} \\, \\phi_{2} }^{ \\, \\phi_{1} \\phantom{\\, \\phi_{2}} \\phantom{\\, \\phi_{1}} \\phantom{\\, \\phi_{2}} } & = & -c^{2} e^{\\left(-2 \\, c \\phi_{1}\\right)} \\\\ {R}_{ \\phantom{\\, \\phi_{2}} \\, \\phi_{1} \\, \\phi_{1} \\, \\phi_{2} }^{ \\, \\phi_{2} \\phantom{\\, \\phi_{1}} \\phantom{\\, \\phi_{1}} \\phantom{\\, \\phi_{2}} } & = & c^{2} \\end{array}$"
      ],
      "text/plain": [
       "R^phi_1_phi_2,phi_1,phi_2 = -c^2*e^(-2*c*phi_1) \n",
       "R^phi_2_phi_1,phi_1,phi_2 = c^2 "
      ]
     },
     "metadata": {},
     "output_type": "display_data"
    },
    {
     "name": "stdout",
     "output_type": "stream",
     "text": [
      "Tensor de Ricci:\n"
     ]
    },
    {
     "data": {
      "text/html": [
       "<html>\\(\\displaystyle \\begin{array}{lcl} {R}_{ \\, \\phi_{1} \\, \\phi_{1} }^{ \\phantom{\\, \\phi_{1}}\\phantom{\\, \\phi_{1}} } & = & -c^{2} \\\\ {R}_{ \\, \\phi_{2} \\, \\phi_{2} }^{ \\phantom{\\, \\phi_{2}}\\phantom{\\, \\phi_{2}} } & = & -c^{2} e^{\\left(-2 \\, c \\phi_{1}\\right)} \\end{array}\\)</html>"
      ],
      "text/latex": [
       "$\\displaystyle \\begin{array}{lcl} {R}_{ \\, \\phi_{1} \\, \\phi_{1} }^{ \\phantom{\\, \\phi_{1}}\\phantom{\\, \\phi_{1}} } & = & -c^{2} \\\\ {R}_{ \\, \\phi_{2} \\, \\phi_{2} }^{ \\phantom{\\, \\phi_{2}}\\phantom{\\, \\phi_{2}} } & = & -c^{2} e^{\\left(-2 \\, c \\phi_{1}\\right)} \\end{array}$"
      ],
      "text/plain": [
       "R_phi_1,phi_1 = -c^2 \n",
       "R_phi_2,phi_2 = -c^2*e^(-2*c*phi_1) "
      ]
     },
     "metadata": {},
     "output_type": "display_data"
    },
    {
     "name": "stdout",
     "output_type": "stream",
     "text": [
      "Escalar de Ricci:\n"
     ]
    },
    {
     "data": {
      "text/html": [
       "<html>\\(\\displaystyle R = -2 \\, c^{2}\\)</html>"
      ],
      "text/latex": [
       "$\\displaystyle R = -2 \\, c^{2}$"
      ],
      "text/plain": [
       "R = -2 \\, c^{2}"
      ]
     },
     "metadata": {},
     "output_type": "display_data"
    }
   ],
   "source": [
    "%display latex\n",
    "# 4. Calcular la conexión de Levi-Civita\n",
    "nabla = h.connection()\n",
    "print(\"Símbolos de Christoffel:\")\n",
    "show(nabla.display())\n",
    "\n",
    "Riem = nab.riemann(name= 'R' ,latex_name='R')\n",
    "Riem.set_name('R')\n",
    "print(\"\\nTensor de Riemann (sin redundancias):\")\n",
    "Riem_comp = Riem.components()\n",
    "show(Riem.display_comp(only_nonredundant=True))\n",
    "\n",
    "# 6. Tensor de Ricci\n",
    "Ric = h.ricci()\n",
    "Ric.set_name('R')\n",
    "#Ric_comp=Ric.components()\n",
    "print(\"Tensor de Ricci:\")\n",
    "show(Ric.display_comp(only_nonredundant=True))\n",
    "\n",
    "# 7. Escalar de Ricci\n",
    "R = h.ricci_scalar()\n",
    "print(\"Escalar de Ricci:\")\n",
    "#display(f' ')\n",
    "R_expr=R.expr()\n",
    "latex_expr = LatexExpr(\"R = \" + latex(R_expr))\n",
    "show(latex_expr)\n"
   ]
  },
  {
   "cell_type": "code",
   "execution_count": 116,
   "id": "4209cc06-aad4-4d54-9b21-63235a082056",
   "metadata": {},
   "outputs": [],
   "source": [
    "##Tensor numerador\n",
    "num_tensor = M.tensor_field(1,1)\n",
    "\n",
    "for a in M.irange():\n",
    "    for b in M.irange():\n",
    "        term1 = 2 * grad2_lnV[a,b]\n",
    "        sum_term = 0\n",
    "        for c in M.irange():\n",
    "            for d in M.irange():\n",
    "                Rcbd_expr = Riem[a,c,b,d].expr()\n",
    "                h_term_expr = h[a,b].expr() * h[c,d].expr()\n",
    "                sum_term += (2/3 * Rcbd_expr - h_term_expr) * grad_lnV[c] * grad_lnV[d]\n",
    "        num_tensor[a,b] = term1 + sum_term\n",
    "\n",
    "\n"
   ]
  },
  {
   "cell_type": "code",
   "execution_count": 121,
   "id": "f61827a1-0ab1-412b-9f16-8d62976817cd",
   "metadata": {
    "scrolled": true
   },
   "outputs": [
    {
     "data": {
      "text/html": [
       "<html>\\(\\displaystyle -\\frac{3 \\, e^{\\left(2 \\, c \\phi_{1}\\right)} \\frac{\\partial}{\\partial \\phi_{1}}\\eta\\left(\\phi_{1}, \\phi_{2}\\right)^{4} - 6 \\, e^{\\left(2 \\, c \\phi_{1}\\right)} \\frac{\\partial}{\\partial \\phi_{1}}\\eta\\left(\\phi_{1}, \\phi_{2}\\right)^{2} \\frac{\\partial^{2}}{(\\partial \\phi_{1})^{2}}\\eta\\left(\\phi_{1}, \\phi_{2}\\right) - 6 \\, {\\left(e^{\\left(4 \\, c \\phi_{1}\\right)} + e^{\\left(2 \\, c \\phi_{1}\\right)}\\right)} \\frac{\\partial}{\\partial \\phi_{1}}\\eta\\left(\\phi_{1}, \\phi_{2}\\right) \\frac{\\partial^{2}}{\\partial \\phi_{1}\\partial \\phi_{2}}\\eta\\left(\\phi_{1}, \\phi_{2}\\right) \\frac{\\partial}{\\partial \\phi_{2}}\\eta\\left(\\phi_{1}, \\phi_{2}\\right) + 3 \\, \\frac{\\partial}{\\partial \\phi_{2}}\\eta\\left(\\phi_{1}, \\phi_{2}\\right)^{4} - 6 \\, e^{\\left(4 \\, c \\phi_{1}\\right)} \\frac{\\partial}{\\partial \\phi_{2}}\\eta\\left(\\phi_{1}, \\phi_{2}\\right)^{2} \\frac{\\partial^{2}}{(\\partial \\phi_{2})^{2}}\\eta\\left(\\phi_{1}, \\phi_{2}\\right) - {\\left(6 \\, c e^{\\left(4 \\, c \\phi_{1}\\right)} \\frac{\\partial}{\\partial \\phi_{1}}\\eta\\left(\\phi_{1}, \\phi_{2}\\right) - {\\left(2 \\, c^{2} e^{\\left(4 \\, c \\phi_{1}\\right)} + 2 \\, c^{2} - {\\left(4 \\, c^{2} - 3\\right)} e^{\\left(2 \\, c \\phi_{1}\\right)} + 3\\right)} \\frac{\\partial}{\\partial \\phi_{1}}\\eta\\left(\\phi_{1}, \\phi_{2}\\right)^{2}\\right)} \\frac{\\partial}{\\partial \\phi_{2}}\\eta\\left(\\phi_{1}, \\phi_{2}\\right)^{2}}{3 \\, {\\left(e^{\\left(2 \\, c \\phi_{1}\\right)} \\frac{\\partial}{\\partial \\phi_{1}}\\eta\\left(\\phi_{1}, \\phi_{2}\\right)^{2} + e^{\\left(4 \\, c \\phi_{1}\\right)} \\frac{\\partial}{\\partial \\phi_{2}}\\eta\\left(\\phi_{1}, \\phi_{2}\\right)^{2}\\right)}}\\)</html>"
      ],
      "text/latex": [
       "$\\displaystyle -\\frac{3 \\, e^{\\left(2 \\, c \\phi_{1}\\right)} \\frac{\\partial}{\\partial \\phi_{1}}\\eta\\left(\\phi_{1}, \\phi_{2}\\right)^{4} - 6 \\, e^{\\left(2 \\, c \\phi_{1}\\right)} \\frac{\\partial}{\\partial \\phi_{1}}\\eta\\left(\\phi_{1}, \\phi_{2}\\right)^{2} \\frac{\\partial^{2}}{(\\partial \\phi_{1})^{2}}\\eta\\left(\\phi_{1}, \\phi_{2}\\right) - 6 \\, {\\left(e^{\\left(4 \\, c \\phi_{1}\\right)} + e^{\\left(2 \\, c \\phi_{1}\\right)}\\right)} \\frac{\\partial}{\\partial \\phi_{1}}\\eta\\left(\\phi_{1}, \\phi_{2}\\right) \\frac{\\partial^{2}}{\\partial \\phi_{1}\\partial \\phi_{2}}\\eta\\left(\\phi_{1}, \\phi_{2}\\right) \\frac{\\partial}{\\partial \\phi_{2}}\\eta\\left(\\phi_{1}, \\phi_{2}\\right) + 3 \\, \\frac{\\partial}{\\partial \\phi_{2}}\\eta\\left(\\phi_{1}, \\phi_{2}\\right)^{4} - 6 \\, e^{\\left(4 \\, c \\phi_{1}\\right)} \\frac{\\partial}{\\partial \\phi_{2}}\\eta\\left(\\phi_{1}, \\phi_{2}\\right)^{2} \\frac{\\partial^{2}}{(\\partial \\phi_{2})^{2}}\\eta\\left(\\phi_{1}, \\phi_{2}\\right) - {\\left(6 \\, c e^{\\left(4 \\, c \\phi_{1}\\right)} \\frac{\\partial}{\\partial \\phi_{1}}\\eta\\left(\\phi_{1}, \\phi_{2}\\right) - {\\left(2 \\, c^{2} e^{\\left(4 \\, c \\phi_{1}\\right)} + 2 \\, c^{2} - {\\left(4 \\, c^{2} - 3\\right)} e^{\\left(2 \\, c \\phi_{1}\\right)} + 3\\right)} \\frac{\\partial}{\\partial \\phi_{1}}\\eta\\left(\\phi_{1}, \\phi_{2}\\right)^{2}\\right)} \\frac{\\partial}{\\partial \\phi_{2}}\\eta\\left(\\phi_{1}, \\phi_{2}\\right)^{2}}{3 \\, {\\left(e^{\\left(2 \\, c \\phi_{1}\\right)} \\frac{\\partial}{\\partial \\phi_{1}}\\eta\\left(\\phi_{1}, \\phi_{2}\\right)^{2} + e^{\\left(4 \\, c \\phi_{1}\\right)} \\frac{\\partial}{\\partial \\phi_{2}}\\eta\\left(\\phi_{1}, \\phi_{2}\\right)^{2}\\right)}}$"
      ],
      "text/plain": [
       "-1/3*(3*e^(2*c*phi_1)*diff(eta(phi_1, phi_2), phi_1)^4 - 6*e^(2*c*phi_1)*diff(eta(phi_1, phi_2), phi_1)^2*diff(eta(phi_1, phi_2), phi_1, phi_1) - 6*(e^(4*c*phi_1) + e^(2*c*phi_1))*diff(eta(phi_1, phi_2), phi_1)*diff(eta(phi_1, phi_2), phi_1, phi_2)*diff(eta(phi_1, phi_2), phi_2) + 3*diff(eta(phi_1, phi_2), phi_2)^4 - 6*e^(4*c*phi_1)*diff(eta(phi_1, phi_2), phi_2)^2*diff(eta(phi_1, phi_2), phi_2, phi_2) - (6*c*e^(4*c*phi_1)*diff(eta(phi_1, phi_2), phi_1) - (2*c^2*e^(4*c*phi_1) + 2*c^2 - (4*c^2 - 3)*e^(2*c*phi_1) + 3)*diff(eta(phi_1, phi_2), phi_1)^2)*diff(eta(phi_1, phi_2), phi_2)^2)/(e^(2*c*phi_1)*diff(eta(phi_1, phi_2), phi_1)^2 + e^(4*c*phi_1)*diff(eta(phi_1, phi_2), phi_2)^2)"
      ]
     },
     "metadata": {},
     "output_type": "display_data"
    }
   ],
   "source": [
    "# Numerador\n",
    "numerador = sum(num_tensor[a,b] * Ncov[a] * Ncon[b] for a in M.irange() for b in M.irange())\n",
    "\n",
    "# Denominador\n",
    "denominador = sum(Ncov[e] * Ncon[e] for e in M.irange())\n",
    "\n",
    "# Resultado final\n",
    "I = numerador / denominador \n",
    "show(I.expr().full_simplify())"
   ]
  }
 ],
 "metadata": {
  "kernelspec": {
   "display_name": "SageMath 10.6",
   "language": "sage",
   "name": "sagemath"
  },
  "language_info": {
   "codemirror_mode": {
    "name": "ipython",
    "version": 3
   },
   "file_extension": ".py",
   "mimetype": "text/x-python",
   "name": "python",
   "nbconvert_exporter": "python",
   "pygments_lexer": "ipython3",
   "version": "3.13.3"
  }
 },
 "nbformat": 4,
 "nbformat_minor": 5
}
