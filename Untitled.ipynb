{
 "cells": [
  {
   "cell_type": "code",
   "execution_count": 1,
   "id": "c39f5c55-0577-4152-bc88-05af5312eb2a",
   "metadata": {},
   "outputs": [
    {
     "ename": "TypeError",
     "evalue": "the argument no. 1 must be a module element",
     "output_type": "error",
     "traceback": [
      "\u001b[31m---------------------------------------------------------------------------\u001b[39m",
      "\u001b[31mTypeError\u001b[39m                                 Traceback (most recent call last)",
      "\u001b[36mCell\u001b[39m\u001b[36m \u001b[39m\u001b[32mIn[1]\u001b[39m\u001b[32m, line 23\u001b[39m\n\u001b[32m     20\u001b[39m dN_vec = dN.up(g)\n\u001b[32m     22\u001b[39m \u001b[38;5;66;03m# Denominador: ||∇N||^2\u001b[39;00m\n\u001b[32m---> \u001b[39m\u001b[32m23\u001b[39m denom = \u001b[43mg\u001b[49m\u001b[43m(\u001b[49m\u001b[43mdN\u001b[49m\u001b[43m,\u001b[49m\u001b[43m \u001b[49m\u001b[43mdN\u001b[49m\u001b[43m)\u001b[49m\n\u001b[32m     25\u001b[39m \u001b[38;5;66;03m# Hessiano de F (2a derivada covariante)\u001b[39;00m\n\u001b[32m     26\u001b[39m nab = g.connection()\n",
      "\u001b[36mFile \u001b[39m\u001b[32m/usr/lib/python3.13/site-packages/sage/manifolds/differentiable/tensorfield_paral.py:1730\u001b[39m, in \u001b[36mTensorFieldParal.__call__\u001b[39m\u001b[34m(self, *args)\u001b[39m\n\u001b[32m   1728\u001b[39m args_r = [args[i].restrict(dom_resu) \u001b[38;5;28;01mfor\u001b[39;00m i \u001b[38;5;129;01min\u001b[39;00m \u001b[38;5;28mrange\u001b[39m(p)]\n\u001b[32m   1729\u001b[39m \u001b[38;5;66;03m# Call of the FreeModuleTensor version\u001b[39;00m\n\u001b[32m-> \u001b[39m\u001b[32m1730\u001b[39m \u001b[38;5;28;01mreturn\u001b[39;00m \u001b[43mFreeModuleTensor\u001b[49m\u001b[43m.\u001b[49m\u001b[34;43m__call__\u001b[39;49m\u001b[43m(\u001b[49m\u001b[43mself_r\u001b[49m\u001b[43m,\u001b[49m\u001b[43m \u001b[49m\u001b[43m*\u001b[49m\u001b[43margs_r\u001b[49m\u001b[43m)\u001b[49m\n",
      "\u001b[36mFile \u001b[39m\u001b[32m/usr/lib/python3.13/site-packages/sage/tensor/modules/free_module_tensor.py:2294\u001b[39m, in \u001b[36mFreeModuleTensor.__call__\u001b[39m\u001b[34m(self, *args)\u001b[39m\n\u001b[32m   2291\u001b[39m         \u001b[38;5;28;01mraise\u001b[39;00m \u001b[38;5;167;01mTypeError\u001b[39;00m(\u001b[33m\"\u001b[39m\u001b[33mthe argument no. \u001b[39m\u001b[33m\"\u001b[39m + \u001b[38;5;28mstr\u001b[39m(i+\u001b[32m1\u001b[39m) +\n\u001b[32m   2292\u001b[39m                         \u001b[33m\"\u001b[39m\u001b[33m must be a module element\u001b[39m\u001b[33m\"\u001b[39m)\n\u001b[32m   2293\u001b[39m     \u001b[38;5;28;01mif\u001b[39;00m args[i]._tensor_type != (\u001b[32m1\u001b[39m,\u001b[32m0\u001b[39m):\n\u001b[32m-> \u001b[39m\u001b[32m2294\u001b[39m         \u001b[38;5;28;01mraise\u001b[39;00m \u001b[38;5;167;01mTypeError\u001b[39;00m(\u001b[33m\"\u001b[39m\u001b[33mthe argument no. \u001b[39m\u001b[33m\"\u001b[39m + \u001b[38;5;28mstr\u001b[39m(i+\u001b[32m1\u001b[39m) +\n\u001b[32m   2295\u001b[39m                         \u001b[33m\"\u001b[39m\u001b[33m must be a module element\u001b[39m\u001b[33m\"\u001b[39m)\n\u001b[32m   2296\u001b[39m fmodule = \u001b[38;5;28mself\u001b[39m._fmodule\n\u001b[32m   2297\u001b[39m \u001b[38;5;66;03m#\u001b[39;00m\n\u001b[32m   2298\u001b[39m \u001b[38;5;66;03m# Specific case of a linear form acting on a vector (for efficiency):\u001b[39;00m\n\u001b[32m   2299\u001b[39m \u001b[38;5;66;03m#\u001b[39;00m\n",
      "\u001b[31mTypeError\u001b[39m: the argument no. 1 must be a module element"
     ]
    }
   ],
   "source": [
    "from sage.manifolds.operators import *\n",
    "\n",
    "# Definir variedad 2D hiperbólica (semiplano de Poincaré)\n",
    "M = Manifold(2, 'M', start_index=1, structure='Riemannian')\n",
    "coord.<x,y> = M.chart('x y:(0,oo)')\n",
    "g = M.metric('g')\n",
    "g[1,1], g[2,2] = 1/y^2, 1/y^2\n",
    "g.display()\n",
    "\n",
    "# Campos escalares F (ln V) y N (e-folds)\n",
    "F = M.scalar_field(function('F')(x,y), name='F')\n",
    "N = M.scalar_field(function('N')(x,y), name='N')\n",
    "\n",
    "# Gradientes (1-formas)\n",
    "dF = F.differential()\n",
    "dN = N.differential()\n",
    "\n",
    "# Vectores gradiente (índice superior)\n",
    "dF_vec = dF.up(g)\n",
    "dN_vec = dN.up(g)\n",
    "\n",
    "# Denominador: ||∇N||^2\n",
    "denom = g(dN, dN)\n",
    "\n",
    "# Hessiano de F (2a derivada covariante)\n",
    "nab = g.connection()\n",
    "ddF = nab(nab(F).down(g))\n",
    "\n",
    "# Tensor de Riemann\n",
    "R = g.riemann()\n",
    "\n",
    "# Ajustar índices: R^a_{c b d} (intercambiar índices 1 y 2)\n",
    "R_adj = R.swap_adjacent_indices(1, 2)\n",
    "\n",
    "# Proyector h_{ab} = g_{ab} - (N_a N_b) / ||∇N||^2\n",
    "h_down = g - (dN * dN) / denom\n",
    "h_up_down = h_down.up(g, 0)  # h^a_b\n",
    "\n",
    "# Término 1: 2 * F_{;a;b} N^{;a} N^{;b}\n",
    "term1 = 2 * ddF(dN_vec, dN_vec)\n",
    "\n",
    "# Término 2A: (2/3) R^a_{c b d} F^{;c} F^{;d} N_{;a} N^{;b}\n",
    "T1 = R_adj.contract(1, dF_vec)      # Contraer índice c\n",
    "T2 = T1.contract(2, dF_vec)         # Contraer índice d\n",
    "T3 = T2.contract(0, dN)             # Contraer índice a\n",
    "partA = (2/3) * T3(dN_vec)          # Contraer índice b\n",
    "\n",
    "# Término 2B: -h^a_b h_{cd} F^{;c} F^{;d} N_{;a} N^{;b}\n",
    "scalar1 = h_down(dF_vec, dF_vec)    # h_{cd} F^{;c} F^{;d}\n",
    "scalar2 = h_up_down(dN, dN_vec)     # h^a_b N_{;a} N^{;b}\n",
    "partB = -scalar1 * scalar2\n",
    "\n",
    "# Combinar términos\n",
    "term2 = partA + partB\n",
    "numerator = term1 + term2\n",
    "n_R_minus_1 = numerator / denom\n",
    "\n",
    "# Simplificar y mostrar resultado\n",
    "n_R_minus_1 = n_R_minus_1.expr().simplify_full()\n",
    "print(\"n_R - 1 =\", n_R_minus_1)"
   ]
  }
 ],
 "metadata": {
  "kernelspec": {
   "display_name": "SageMath 10.6",
   "language": "sage",
   "name": "sagemath"
  },
  "language_info": {
   "codemirror_mode": {
    "name": "ipython",
    "version": 3
   },
   "file_extension": ".py",
   "mimetype": "text/x-python",
   "name": "python",
   "nbconvert_exporter": "python",
   "pygments_lexer": "ipython3",
   "version": "3.13.3"
  }
 },
 "nbformat": 4,
 "nbformat_minor": 5
}
